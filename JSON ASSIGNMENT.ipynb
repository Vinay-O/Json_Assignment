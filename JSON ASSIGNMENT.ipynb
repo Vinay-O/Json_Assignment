{
 "cells": [
  {
   "cell_type": "code",
   "execution_count": 3,
   "id": "01ccc0d6",
   "metadata": {},
   "outputs": [
    {
     "name": "stdout",
     "output_type": "stream",
     "text": [
      "Name: Aarav Kumar, DOB: 1990-05-15, Height: 175, City: Mumbai, State: Maharashtra\n",
      "Name: Aanya Gupta, DOB: 1988-08-20, Height: 165, City: Delhi, State: Delhi\n",
      "Name: Advait Singh, DOB: 1992-03-10, Height: 180, City: Bangalore, State: Karnataka\n",
      "Name: Ananya Sharma, DOB: 1995-11-25, Height: 160, City: Chennai, State: Tamil Nadu\n",
      "Name: Arjun Patel, DOB: 1991-07-05, Height: 190, City: Ahmedabad, State: Gujarat\n"
     ]
    }
   ],
   "source": [
    "import json\n",
    "\n",
    "class Employee:\n",
    "    def __init__(self, name, dob, height, city, state):\n",
    "        self.name = name\n",
    "        self.dob = dob\n",
    "        self.height = height\n",
    "        self.city = city\n",
    "        self.state = state\n",
    "\n",
    "def main():\n",
    "    with open('employee.json', 'r') as file:\n",
    "        data = json.load(file)\n",
    "\n",
    "    employees_list = []\n",
    "    \n",
    "    for emp_data in data['employees']:\n",
    "        employee = Employee(emp_data['Name'], emp_data['DOB'], emp_data['Height'], emp_data['City'], emp_data['State'])\n",
    "        employees_list.append(employee)\n",
    "\n",
    "    for employee in employees_list:\n",
    "        print(f\"Name: {employee.name}, DOB: {employee.dob}, Height: {employee.height}, City: {employee.city}, State: {employee.state}\")\n",
    "        \n",
    "main()\n"
   ]
  },
  {
   "cell_type": "code",
   "execution_count": 5,
   "id": "77495241",
   "metadata": {},
   "outputs": [
    {
     "name": "stdout",
     "output_type": "stream",
     "text": [
      "{\n",
      "  \"Andhra Pradesh\": \"Amaravati\",\n",
      "  \"Karnataka\": \"Bengaluru\",\n",
      "  \"Tamil Nadu\": \"Chennai\",\n",
      "  \"Maharashtra\": \"Mumbai\",\n",
      "  \"Delhi\": \"New Delhi\",\n",
      "  \"Rajasthan\": \"Jaipur\",\n",
      "  \"Gujarat\": \"Gandhinagar\"\n",
      "}\n"
     ]
    }
   ],
   "source": [
    "import json\n",
    "\n",
    "indian_states_capitals = {\n",
    "    \"Andhra Pradesh\": \"Amaravati\",\n",
    "    \"Karnataka\": \"Bengaluru\",\n",
    "    \"Tamil Nadu\": \"Chennai\",\n",
    "    \"Maharashtra\": \"Mumbai\",\n",
    "    \"Delhi\": \"New Delhi\",\n",
    "    \"Rajasthan\": \"Jaipur\",\n",
    "    \"Gujarat\": \"Gandhinagar\"\n",
    "}\n",
    "\n",
    "with open('indian_states_capitals.json', 'w') as file:\n",
    "    json.dump(indian_states_capitals, file)\n",
    "\n",
    "with open('indian_states_capitals.json', 'r') as file:\n",
    "    data = json.load(file)\n",
    "    print(json.dumps(data, indent=2))\n"
   ]
  },
  {
   "cell_type": "code",
   "execution_count": 6,
   "id": "6a8fe96d",
   "metadata": {},
   "outputs": [
    {
     "name": "stdout",
     "output_type": "stream",
     "text": [
      "Name: Max, Age: 3\n",
      "Coat Color: White and Brown\n",
      "Name: Rocky, Age: 5\n",
      "Coat Color: Brindle\n",
      "Woof! Woof!\n",
      "Max has an agility level of 8\n",
      "Woof!\n",
      "Rocky weighs 40 pounds\n"
     ]
    }
   ],
   "source": [
    "class Dog:\n",
    "    def __init__(self, name, age, coat_color):\n",
    "        self.name = name\n",
    "        self.age = age\n",
    "        self.coat_color = coat_color\n",
    "\n",
    "    def description(self):\n",
    "        print(f\"Name: {self.name}, Age: {self.age}\")\n",
    "\n",
    "    def get_info(self):\n",
    "        print(f\"Coat Color: {self.coat_color}\")\n",
    "\n",
    "\n",
    "class JackRussellTerrier(Dog):\n",
    "    def __init__(self, name, age, coat_color, agility_level):\n",
    "        super().__init__(name, age, coat_color)\n",
    "        self.agility_level = agility_level\n",
    "\n",
    "    def bark(self):\n",
    "        print(\"Woof! Woof!\")\n",
    "\n",
    "    def show_agility(self):\n",
    "        print(f\"{self.name} has an agility level of {self.agility_level}\")\n",
    "\n",
    "\n",
    "class Bulldog(Dog):\n",
    "    def __init__(self, name, age, coat_color, weight):\n",
    "        super().__init__(name, age, coat_color)\n",
    "        self.weight = weight\n",
    "\n",
    "    def bark(self):\n",
    "        print(\"Woof!\")\n",
    "\n",
    "    def show_weight(self):\n",
    "        print(f\"{self.name} weighs {self.weight} pounds\")\n",
    "\n",
    "\n",
    "dog1 = JackRussellTerrier(\"Max\", 3, \"White and Brown\", 8)\n",
    "dog2 = Bulldog(\"Rocky\", 5, \"Brindle\", 40)\n",
    "\n",
    "dog1.description()\n",
    "dog1.get_info()\n",
    "\n",
    "dog2.description()\n",
    "dog2.get_info()\n",
    "\n",
    "dog1.bark()\n",
    "dog1.show_agility()\n",
    "\n",
    "dog2.bark()\n",
    "dog2.show_weight()\n"
   ]
  },
  {
   "cell_type": "code",
   "execution_count": null,
   "id": "7ffa2687",
   "metadata": {},
   "outputs": [],
   "source": []
  }
 ],
 "metadata": {
  "kernelspec": {
   "display_name": "Python 3 (ipykernel)",
   "language": "python",
   "name": "python3"
  },
  "language_info": {
   "codemirror_mode": {
    "name": "ipython",
    "version": 3
   },
   "file_extension": ".py",
   "mimetype": "text/x-python",
   "name": "python",
   "nbconvert_exporter": "python",
   "pygments_lexer": "ipython3",
   "version": "3.10.9"
  }
 },
 "nbformat": 4,
 "nbformat_minor": 5
}
